{
  "nbformat": 4,
  "nbformat_minor": 0,
  "metadata": {
    "colab": {
      "name": "Lambda_fuc_MarkC.ipynb",
      "provenance": []
    },
    "kernelspec": {
      "name": "python3",
      "display_name": "Python 3"
    },
    "language_info": {
      "name": "python"
    }
  },
  "cells": [
    {
      "cell_type": "code",
      "metadata": {
        "id": "iUAUp-7AiFLF"
      },
      "source": [
        "### Required Libraries ###\n",
        "from datetime import datetime\n",
        "from dateutil.relativedelta import relativedelta"
      ],
      "execution_count": 1,
      "outputs": []
    },
    {
      "cell_type": "code",
      "metadata": {
        "id": "GQjEzWM0iJ02"
      },
      "source": [
        "### Functionality Helper Functions ###\n",
        "def parse_int(n):\n",
        "    \"\"\"\n",
        "    Securely converts a non-integer value to integer.\n",
        "    \"\"\"\n",
        "    try:\n",
        "        return int(n)\n",
        "    except ValueError:\n",
        "        return float(\"nan\")"
      ],
      "execution_count": 2,
      "outputs": []
    },
    {
      "cell_type": "code",
      "metadata": {
        "id": "-frQsX9wiU2l"
      },
      "source": [
        "def build_validation_result(is_valid, violated_slot, message_content):\n",
        "    \"\"\"\n",
        "    Define a result message structured as Lex response.\n",
        "    \"\"\"\n",
        "    if message_content is None:\n",
        "        return {\"isValid\": is_valid, \"violatedSlot\": violated_slot}\n",
        "\n",
        "    return {\n",
        "        \"isValid\": is_valid,\n",
        "        \"violatedSlot\": violated_slot,\n",
        "        \"message\": {\"contentType\": \"PlainText\", \"content\": message_content},\n",
        "    }"
      ],
      "execution_count": 4,
      "outputs": []
    },
    {
      "cell_type": "markdown",
      "metadata": {
        "id": "r_BU83PemZKP"
      },
      "source": [
        "### Jessica: added two functions blow \n",
        "* get-investment_recommendation \n",
        "* validate_data"
      ]
    },
    {
      "cell_type": "code",
      "metadata": {
        "id": "l4LcPF4rkdRy"
      },
      "source": [
        "def get_investment_recommendation(risk_level):\n",
        "    \"\"\"\n",
        "    get recommendation based on risk profile\n",
        "    \"\"\"\n",
        "    risk_levels={\n",
        "        \"none\":\"100% bonds (AGG), 0% equities (SPY)\",\n",
        "        \"very low\":\"80% bonds (AGG), 20% equities (SPY)\",\n",
        "        \"low\":\"60% bonds (AGG), 40% equities (SPY)\",\n",
        "       \"medium\": \"40% bonds (AGG), 60% equities (SPY)\",\n",
        "       \"high\":\"20% bonds (AGG), 80% equities (SPY)\",\n",
        "       \"very high\":\"0% bonds (AGG), 100% equities (SPY)\"\n",
        "    }\n",
        "    return risk_levels[risk_level.lower()]\n",
        "    \n"
      ],
      "execution_count": null,
      "outputs": []
    },
    {
      "cell_type": "code",
      "metadata": {
        "id": "ML70ZrBlmsup"
      },
      "source": [
        "def validate_data(age, investment_amount,inent_request ):\n",
        "    \"\"\"\n",
        "   validates the data enter by user\n",
        "    \"\"\"\n",
        "    if age is not None:\n",
        "        age=parse_int(age)\n",
        "        if age<0:\n",
        "          return build_validation_result(False, 'age', 'age invalide')\n",
        "        elif age>=65:\n",
        "          return build_validation_result(False, 'age','age should be less than 65')\n",
        "    if investment_amount is not None:\n",
        "        investment_amount=parse_int(investment_amount)\n",
        "        if investment_amount<5000:\n",
        "            return build_validation_result(False, 'investmentAmount','the amount should be >=5000')\n",
        "    return build_validation_result(True, None, None)    \n",
        "        "
      ],
      "execution_count": 6,
      "outputs": []
    },
    {
      "cell_type": "code",
      "metadata": {
        "id": "nDFTHmQutS8O"
      },
      "source": [
        "### Dialog Actions Helper Functions ###\n",
        "def get_slots(intent_request):\n",
        "    \"\"\"\n",
        "    Fetch all the slots and their values from the current intent.\n",
        "    \"\"\"\n",
        "    return intent_request[\"currentIntent\"][\"slots\"]"
      ],
      "execution_count": 7,
      "outputs": []
    },
    {
      "cell_type": "code",
      "metadata": {
        "id": "91zf9w03tWVy"
      },
      "source": [
        "def elicit_slot(session_attributes, intent_name, slots, slot_to_elicit, message):\n",
        "    \"\"\"\n",
        "    Defines an elicit slot type response.\n",
        "    \"\"\"\n",
        "\n",
        "    return {\n",
        "        \"sessionAttributes\": session_attributes,\n",
        "        \"dialogAction\": {\n",
        "            \"type\": \"ElicitSlot\",\n",
        "            \"intentName\": intent_name,\n",
        "            \"slots\": slots,\n",
        "            \"slotToElicit\": slot_to_elicit,\n",
        "            \"message\": message,\n",
        "        },\n",
        "    }"
      ],
      "execution_count": 8,
      "outputs": []
    },
    {
      "cell_type": "code",
      "metadata": {
        "id": "xcCKx_19tcwz"
      },
      "source": [
        "def delegate(session_attributes, slots):\n",
        "    \"\"\"\n",
        "    Defines a delegate slot type response.\n",
        "    \"\"\"\n",
        "\n",
        "    return {\n",
        "        \"sessionAttributes\": session_attributes,\n",
        "        \"dialogAction\": {\"type\": \"Delegate\", \"slots\": slots},\n",
        "    }\n"
      ],
      "execution_count": 9,
      "outputs": []
    },
    {
      "cell_type": "code",
      "metadata": {
        "id": "zCBEagdbth1e"
      },
      "source": [
        "def close(session_attributes, fulfillment_state, message):\n",
        "    \"\"\"\n",
        "    Defines a close slot type response.\n",
        "    \"\"\"\n",
        "\n",
        "    response = {\n",
        "        \"sessionAttributes\": session_attributes,\n",
        "        \"dialogAction\": {\n",
        "            \"type\": \"Close\",\n",
        "            \"fulfillmentState\": fulfillment_state,\n",
        "            \"message\": message,\n",
        "        },\n",
        "    }\n",
        "\n",
        "    return response"
      ],
      "execution_count": 10,
      "outputs": []
    },
    {
      "cell_type": "code",
      "metadata": {
        "id": "rcGRHXZiui1a"
      },
      "source": [
        "### Intents Handlers ###\n",
        "def recommend_portfolio(intent_request):\n",
        "    \"\"\"\n",
        "    Performs dialog management and fulfillment for recommending a portfolio.\n",
        "    \"\"\"\n",
        "\n",
        "    first_name = get_slots(intent_request)[\"firstName\"]\n",
        "    age = get_slots(intent_request)[\"age\"]\n",
        "    investment_amount = get_slots(intent_request)[\"investmentAmount\"]\n",
        "    risk_level = get_slots(intent_request)[\"riskLevel\"]\n",
        "    source = intent_request[\"invocationSource\"]\n",
        "\n",
        "    if source == \"DialogCodeHook\":\n",
        "        # Perform basic validation on the supplied input slots.\n",
        "        # Use the elicitSlot dialog action to re-prompt\n",
        "        # for the first violation detected.\n",
        "\n",
        "       ### YOUR DATA VALIDATION CODE STARTS HERE ###\n",
        "        slots = get_slots(intent_request)\n",
        "        validation_result=validate_data(age, investment_amount, intent_request)\n",
        "        if not validation_result['isValid']:\n",
        "            slots[validation_result['violatedSlot']]=None\n",
        "            # request new data \n",
        "            return elicit_slot(\n",
        "                intent_request['sessionAttributes'],\n",
        "                intent_request['currentintent']['name'],\n",
        "                slots, \n",
        "                validation_result['violatedSlot'],\n",
        "                validation_result['message']\n",
        "            )\n",
        "        output_session_attributes=intent_request['sessionAttributes'] # get current session attributes\n",
        "        return delegate(output_session_attributes, get_slots(intent_request))\n",
        "    initial_recommendation=get_investment_recommendation(risk_level)\n",
        "    return close(\n",
        "        intent_request['sessionAttributes'],\n",
        "        'Fulfilled',\n",
        "        {\n",
        "            'contentType': 'PlainText',\n",
        "            'content':f'Thank you {first_name}, base on risk level you choose, the recommendation is to choose a portfolio with {initial_recommendation}'\n",
        "\n",
        "        }\n",
        "\n",
        "    )"
      ],
      "execution_count": 13,
      "outputs": []
    },
    {
      "cell_type": "markdown",
      "metadata": {
        "id": "MEK7waa0h9zJ"
      },
      "source": [
        "### Intents Handlers ###\n",
        "def recommend_portfolio(intent_request):\n",
        "    \"\"\"\n",
        "    Performs dialog management and fulfillment for recommending a portfolio.\n",
        "    \"\"\"\n",
        "\n",
        "    first_name = get_slots(intent_request)[\"firstName\"]\n",
        "    age = get_slots(intent_request)[\"age\"]\n",
        "    investment_amount = get_slots(intent_request)[\"investmentAmount\"]\n",
        "    risk_level = get_slots(intent_request)[\"riskLevel\"]\n",
        "    source = intent_request[\"invocationSource\"]\n",
        "\n",
        "    if source == \"DialogCodeHook\":\n",
        "        # Perform basic validation on the supplied input slots.\n",
        "        # Use the elicitSlot dialog action to re-prompt\n",
        "        # for the first violation detected.\n",
        "\n",
        "       ### YOUR DATA VALIDATION CODE STARTS HERE ###\n",
        "        slots = get_slots(intent_request)\n",
        "        validate_data = build_validation_result(True, None, None)\n",
        "        if age is None:\n",
        "            validate_data = build_validation_result(False, \"age\", \"Please provide your age\")\n",
        "        elif parse_int(age) >= 65:\n",
        "            validate_data = build_validation_result(False, \"age\", \"Your age should be less than or equal to 65\")\n",
        "        elif parse_int(age) <= 0:\n",
        "            validate_data = build_validation_result(False, \"age\", \"Your age should be greater than 0\")\n",
        "        if investment_amount is None:\n",
        "            validate_data = build_validation_result(False, \"investmentAmount\", \"Please provide an investment amount\")\n",
        "        elif parse_int(investment_amount) < 5000:\n",
        "            validate_data = build_validation_result(False, \"investmentAmount\", \"Your investment should be greater than $5000\")\n",
        "        \n",
        "        if not validate_data[\"isValid\"]:\n",
        "            slots[validate_data[\"violatedSlot\"]] = None\n",
        "            return elicit_slot(intent_request[\"sessionAttributes\"], intent_request[\"currentIntent\"][\"name\"], slots, validate_data[\"violatedSlot\"], validate_data[\"message\"])\n",
        "        \n",
        "        ### Running into errors at the beginning of the chat experience ###\n",
        "        \n",
        "        ### YOUR DATA VALIDATION CODE ENDS HERE ###\n",
        "        \n",
        "        # Fetch current session attibutes\n",
        "        output_session_attributes = intent_request[\"sessionAttributes\"]\n",
        "\n",
        "        return delegate(output_session_attributes, get_slots(intent_request))\n",
        "\n",
        "    # Get the initial investment recommendation\n",
        "\n",
        "    ### YOUR FINAL INVESTMENT RECOMMENDATION CODE STARTS HERE ###\n",
        "\n",
        "    ### YOUR FINAL INVESTMENT RECOMMENDATION CODE ENDS HERE ###\n",
        "\n",
        "    # Return a message with the initial recommendation based on the risk level.\n",
        "    return close(\n",
        "        intent_request[\"sessionAttributes\"],\n",
        "        \"Fulfilled\",\n",
        "        {\n",
        "            \"contentType\": \"PlainText\",\n",
        "            \"content\": \"\"\"{} thank you for your information;\n",
        "            based on the risk level you defined, my recommendation is to choose an investment portfolio with {}\n",
        "            \"\"\".format(\n",
        "                first_name, initial_recommendation\n",
        "            ),\n",
        "        },\n",
        "    )\n",
        "\n",
        "\n",
        "\n"
      ]
    },
    {
      "cell_type": "code",
      "metadata": {
        "id": "vwAHdW4mt7fh"
      },
      "source": [
        "### Intents Dispatcher ###\n",
        "def dispatch(intent_request):\n",
        "    \"\"\"\n",
        "    Called when the user specifies an intent for this bot.\n",
        "    \"\"\"\n",
        "\n",
        "    intent_name = intent_request[\"currentIntent\"][\"name\"]\n",
        "\n",
        "    # Dispatch to bot's intent handlers\n",
        "    if intent_name == \"RecommendPortfolio\":\n",
        "        return recommend_portfolio(intent_request)\n",
        "\n",
        "    raise Exception(\"Intent with name \" + intent_name + \" not supported\")\n",
        "\n",
        "\n",
        "### Main Handler ###\n",
        "def lambda_handler(event, context):\n",
        "    \"\"\"\n",
        "    Route the incoming request based on intent.\n",
        "    The JSON body of the request is provided in the event slot.\n",
        "    \"\"\"\n",
        "\n",
        "    return dispatch(event)"
      ],
      "execution_count": null,
      "outputs": []
    }
  ]
}